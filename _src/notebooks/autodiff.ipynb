{
 "cells": [
  {
   "cell_type": "markdown",
   "metadata": {},
   "source": [
    "# Autodifferentiation\n",
    "## Forward mode"
   ]
  },
  {
   "cell_type": "code",
   "execution_count": 1,
   "metadata": {},
   "outputs": [
    {
     "data": {
      "text/plain": [
       "derivative (generic function with 1 method)"
      ]
     },
     "execution_count": 1,
     "metadata": {},
     "output_type": "execute_result"
    }
   ],
   "source": [
    "struct Var\n",
    "    x::Real\n",
    "end\n",
    "\n",
    "function derivative(ex::Union{Expr,Var},variable::Var)\n",
    "    #Base case \n",
    "    if typeof(ex) == Var\n",
    "        if ex == variable\n",
    "            return (ex.x,1) \n",
    "        else\n",
    "            return (ex.x,0)\n",
    "        end\n",
    "    elseif typeof(ex) == Expr\n",
    "        # Add case\n",
    "        if ex.args[1] == :+     # Expr(:call,:+,a,b,..)\n",
    "            v,∂v = 0,0\n",
    "            #= Loops through arguments and recurses down each\n",
    "            argument until base case is hit.\n",
    "            =#\n",
    "            for i in 2:length(ex.args)\n",
    "                p,∂p = derivative(ex.args[i],variable)\n",
    "                v += p     # sum of arguments\n",
    "                ∂v += ∂p   # sum of partials Σ∂\n",
    "            end\n",
    "            return (v,∂v)\n",
    "\n",
    "        # Multiplication case\n",
    "        elseif ex.args[1] == :*  # Expr(:call,:*,a,b,..)\n",
    "            v = []\n",
    "            ∂v = []\n",
    "            #= Loops through arguments and recurses down each\n",
    "            argument until base case is hit.\n",
    "            =#\n",
    "            for i in 2:length(ex.args)\n",
    "                p,∂p = derivative(ex.args[i],variable)\n",
    "                push!(v,p)\n",
    "                push!(∂v,∂p) \n",
    "            end\n",
    "\n",
    "            a,∂a = 0,0\n",
    "            a = reduce(*,v)  # product of arguments\n",
    "            # computes ∂(abc)/∂variable = (bc)∂a/∂variable +\n",
    "            #                             (ac)∂b/∂variable +\n",
    "            #                              (ab)∂c/∂variable\n",
    "            for i in 1:length(∂v)  \n",
    "                ∂a += a*∂v[i]/v[i]\n",
    "            end\n",
    "            return (a,∂a)  \n",
    "        end\n",
    "    else\n",
    "        return \"Case Not Valid!\"\n",
    "\n",
    "    end\n",
    "\n",
    "end\n",
    "\n"
   ]
  },
  {
   "cell_type": "code",
   "execution_count": 2,
   "metadata": {},
   "outputs": [
    {
     "name": "stdout",
     "output_type": "stream",
     "text": [
      "(z,∂z/∂x):(330, 61.0)\n",
      "(z,∂z/∂y):(330, 84.0)\n"
     ]
    }
   ],
   "source": [
    "x = Var(6)\n",
    "y = Var(7)\n",
    "z = :($x*$x+($y*$x*$y))\n",
    "\n",
    "println(\"(z,∂z/∂x):\",derivative(z,x))\n",
    "println(\"(z,∂z/∂y):\",derivative(z,y))"
   ]
  },
  {
   "cell_type": "markdown",
   "metadata": {},
   "source": [
    "## Reverse mode"
   ]
  },
  {
   "cell_type": "code",
   "execution_count": 1,
   "metadata": {},
   "outputs": [
    {
     "data": {
      "text/plain": [
       "derivative (generic function with 1 method)"
      ]
     },
     "execution_count": 1,
     "metadata": {},
     "output_type": "execute_result"
    }
   ],
   "source": [
    "mutable struct Var\n",
    "    x::Real\n",
    "    partial::Real \n",
    "end\n",
    "\n",
    "Var(x::Real) = Var(x,0)     # initialize partial = 0\n",
    "\n",
    "mutable struct Node\n",
    "    ex::Union{Expr,Var}\n",
    "    val::Real\n",
    "    child::Vector{Node}\n",
    "end\n",
    "\n",
    "Node(ex::Union{Expr,Var}) = Node(ex,0,[]) # initialize value = 0, child nodes = []\n",
    "\n",
    "#Returns evaluation graph consisting of Nodes\n",
    "function evaluate(ex::Union{Var,Expr})\n",
    "    #Base case \n",
    "    if typeof(ex) == Var\n",
    "        return Node(ex,ex.x,[])\n",
    "    \n",
    "    elseif typeof(ex) == Expr \n",
    "        # Add case\n",
    "        if ex.args[1] == :+\n",
    "            cur_n = Node(ex)   #create new Node for this expression\n",
    "            for i in 2:length(ex.args) \n",
    "                n = evaluate(ex.args[i])  #recurses down to base case\n",
    "                push!(cur_n.child,n)   #appends subnode as this node's child\n",
    "                cur_n.val += n.val    #add subnode value to current node value\n",
    "            end\n",
    "            return cur_n\n",
    "\n",
    "        # Multiplication case\n",
    "        elseif ex.args[1] == :*\n",
    "            cur_n = Node(ex)   #create new Node for this expression\n",
    "            cur_n.val = 1\n",
    "            for i in 2:length(ex.args)\n",
    "                n = evaluate(ex.args[i])  #recurses down to base case\n",
    "                push!(cur_n.child,n)   #appends subnode as this node's child \n",
    "                cur_n.val *= n.val  #multiply subnode value to current node value\n",
    "            end\n",
    "            return cur_n\n",
    "        end\n",
    "        \n",
    "    else\n",
    "        return \"Case Not Valid!\"\n",
    "    end\n",
    "\n",
    "end\n",
    "\n",
    "function derivative(node::Node,gradient::Real)\n",
    "    #Base case\n",
    "    if typeof(node.ex) == Var\n",
    "        node.ex.partial += gradient   # update gradient for this Var\n",
    "\n",
    "    elseif typeof(node.ex) == Expr\n",
    "        # Add case\n",
    "        if node.ex.args[1] == :+     \n",
    "            for i in 1:length(node.child)\n",
    "                derivative(node.child[i],gradient)  #traverses each leaf nodes (Var) and updates gradient\n",
    "            end\n",
    "\n",
    "        # Multiplication case\n",
    "        elseif node.ex.args[1] == :*  \n",
    "            # current node val has been previously computed as a product of children \n",
    "            # e.g. if node has 3 subnodes a,b,c, gradient passed to subnode a = (bc)*gradient,\n",
    "            # gradient passed to subnode b = (ac)*gradient, gradient passed to subnode c = (ab)*gradient, \n",
    "            for i in 1:length(node.child)  \n",
    "                derivative(node.child[i],gradient * node.val / node.child[i].val) \n",
    "            end\n",
    "        end\n",
    "\n",
    "    else\n",
    "        return \"Case Not Valid!\"\n",
    "    end\n",
    "\n",
    "end\n",
    "\n"
   ]
  },
  {
   "cell_type": "code",
   "execution_count": 2,
   "metadata": {},
   "outputs": [
    {
     "name": "stdout",
     "output_type": "stream",
     "text": [
      "z: 372\n",
      "∂z/∂x: 68.0\n",
      "∂z/∂y: 90.0\n"
     ]
    }
   ],
   "source": [
    "x = Var(6)\n",
    "y = Var(7)\n",
    "z = :($x*($x+$y)+($y*$x*$y))\n",
    "\n",
    "t = evaluate(z)\n",
    "derivative(t,1)\n",
    "println(\"z: \",t.val)\n",
    "println(\"∂z/∂x: \",x.partial)\n",
    "println(\"∂z/∂y: \",y.partial)"
   ]
  }
 ],
 "metadata": {
  "kernelspec": {
   "display_name": "Julia 1.8.0",
   "language": "julia",
   "name": "julia-1.8"
  },
  "language_info": {
   "file_extension": ".jl",
   "mimetype": "application/julia",
   "name": "julia",
   "version": "1.8.0"
  }
 },
 "nbformat": 4,
 "nbformat_minor": 2
}
